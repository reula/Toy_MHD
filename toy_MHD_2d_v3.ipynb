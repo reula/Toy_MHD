{
 "cells": [
  {
   "cell_type": "markdown",
   "id": "fe855079",
   "metadata": {},
   "source": [
    "## Toy MHD and divergence cleaning \n",
    "\n",
    "\n",
    "We made a code to check the divergence cleaning strategies discussed in: https://www.overleaf.com/read/phmtkqtkxwjr#baf932\n",
    "\n",
    "In this version we add the hyperbolic divergence cleaning. Since we are using periodic boundary conditions we don't expect much improvement, because the waves will revolve around,  only the one coming from the damping term. \n",
    "\n",
    "\n",
    "### The evolution equations are:\n",
    "\n",
    "$$\n",
    "\\partial_t B^i = \\nabla_j (v^j B^i - v^i B^j) + \\kappa \\nabla^i (\\nabla_j B^j)\n",
    "$$\n",
    "for the parabolic case, and\n",
    "\n",
    "\\begin{align*}\n",
    "\\partial_t B^i &= \\nabla_j (v^j B^i - v^i B^j) + \\nabla^i ψ \\\\\n",
    "\\partial_t ψ &= c^2 \\nabla_j B^j - τψ\n",
    "\\end{align*}\n"
   ]
  },
  {
   "cell_type": "code",
   "execution_count": null,
   "id": "6faaab53",
   "metadata": {},
   "outputs": [],
   "source": [
    "using Plots\n",
    "using SummationByPartsOperators\n",
    "using LinearAlgebra\n",
    "using ArraysOfArrays\n",
    "using Base.Threads\n",
    "using Revise\n",
    "using JLD2\n",
    "#import Pkg; Pkg.add(\"WriteVTK\")\n",
    "using WriteVTK\n",
    "\n",
    "includet(\"../PIC/PIC-1D/aux_functions/aux_functions_grid.jl\")\n",
    "includet(\"../PIC/PIC-1D/aux_functions/aux_functions_E-B.jl\")\n",
    "includet(\"../PIC/PIC-1D/aux_functions/aux_functions_RHS.jl\")\n",
    "includet(\"toy_MHD_auxfunctions.jl\")"
   ]
  },
  {
   "cell_type": "markdown",
   "id": "fe0a8ba6",
   "metadata": {},
   "source": [
    "Setting the box and the grid coordinates."
   ]
  },
  {
   "cell_type": "code",
   "execution_count": null,
   "id": "b8d1c202",
   "metadata": {},
   "outputs": [],
   "source": [
    "J = (200,200)\n",
    "Box = (0.0,1.0,0.0,1.0)\n",
    "dx = differentials(Box,J)\n",
    "const D = 2\n",
    "\n",
    "xv = [(i-1)*dx[1] for i in 1:J[1]]\n",
    "yv = [(i-1)*dx[2] for i in 1:J[2]];"
   ]
  },
  {
   "cell_type": "markdown",
   "id": "e09bc19f",
   "metadata": {},
   "source": [
    "The finite differences. "
   ]
  },
  {
   "cell_type": "code",
   "execution_count": null,
   "id": "8a0bc525",
   "metadata": {},
   "outputs": [],
   "source": [
    "Dx = periodic_derivative_operator(derivative_order=1, accuracy_order=4, xmin=Box[1], xmax=Box[2], N=J[1])\n",
    "Dy = periodic_derivative_operator(derivative_order=1, accuracy_order=4, xmin=Box[3], xmax=Box[4], N=J[2])\n",
    "Δx = dissipation_operator(Dx;\n",
    "                     #mode=D.coefficients.mode\n",
    "                     #,mode=ThreadedMode()\n",
    "                     )\n",
    "Δy = dissipation_operator(Dy;\n",
    "                     #mode=D.coefficients.mode\n",
    "                     #,mode=ThreadedMode()\n",
    "                     )\n",
    "σx = 0.0 #dissipation strength\n",
    "σy = 0.0 #dissipation strength"
   ]
  },
  {
   "cell_type": "markdown",
   "id": "99a7a374",
   "metadata": {},
   "source": [
    "### Build initial data and velocity field.\n",
    "\n",
    "#### Velocity field"
   ]
  },
  {
   "cell_type": "code",
   "execution_count": null,
   "id": "f79b2999",
   "metadata": {},
   "outputs": [],
   "source": [
    "\n",
    "x0 = [0.5,0.5]\n",
    "fv(x,y,k) = sin(k[1]*x)*sin(k[2]*y)\n",
    "```\n",
    "bump of radius r and smoothness p around the point x0\n",
    "```\n",
    "function fp(x,y,x0,r,p) \n",
    "    r20 = r^2\n",
    "    r2 = (x-x0[1])^2+(y-x0[2])^2\n",
    "    if r2 - r20 < 0\n",
    "        return (r20 - r2)^p/r20^p\n",
    "    else\n",
    "        return 0.0\n",
    "    end\n",
    "end\n",
    "```\n",
    "gradient of bump of radius r and smoothness p around the point x0\n",
    "```\n",
    "function grad_fp(x,y,x0,r,p)\n",
    "    r20 = r^2\n",
    "    r2 = (x-x0[1])^2+(y-x0[2])^2\n",
    "    if r2 - r20 < 0\n",
    "        return -2*p*[(x-x0[1]),(y-x0[2])]*(r20 - r2)^(p-1)/r20^p\n",
    "    else\n",
    "        return [0.0, 0.0]\n",
    "    end\n",
    "end\n",
    "\n",
    "function polynomial_bump(x,y,p)\n",
    "    return x^p*(x-1)^p*y^p*(y-1)^p*2^4p\n",
    "end\n",
    "\n",
    "#poly = [polynomial_bump(x,y,4) for x in xv, y in yv]\n",
    "\n",
    "#possible V's \n",
    "\n",
    "# Inidat 0\n",
    "#For really periodic cases we use this one: \n",
    "\n",
    "# a sinusoidal one:\n",
    "#k1 = 2π*[1,1]\n",
    "#V = [-(l-2)*cos(k1[1]*xv[i]) + (l-1)*cos(k1[2]*yv[j]) for l in 1:2, i in 1:J[1], j in 1:J[2]];\n",
    "\n",
    "# Inidat 1\n",
    "#For one of compact support we use this one: This has problems when used with PINNs because it used `if` statements.\n",
    "# one from the gradient of a bump function. Because the CFL condition we don't want it to be too big.\n",
    "#grad_Fp = [grad_fp(xv[i],yv[j],x0,0.45,8)[l] for l in 1:D, i in 1:J[1], j in 1:J[2]];\n",
    "#V = -0.1*grad_Fp # with 0.1 it is about 1/2 at maximum. \n",
    "\n",
    "# Inidat 2\n",
    "#To use one that is zero at the boundary we use the following:\n",
    "# RUN UP TO T=0.4\n",
    "#=\n",
    "V = zeros(2,J[1],J[2]);\n",
    "for i in 1:J[1]\n",
    "    mul!(view(V,2,i,:), Dy, view(poly,i,:))\n",
    "end\n",
    "for j in 1:J[2]\n",
    "    mul!(view(V,1,:,j), Dx, view(poly,:,j))\n",
    "end\n",
    "\n",
    "V = V / maximum(abs.(V))\n",
    "=#\n",
    "\n",
    "#Inidat 3\n",
    "#Another V which has outgoing flow so no boundary conditions are needed\n",
    "# RUN UP TO T=4.0\n",
    "r0 = 0.16\n",
    "r = [(xv[i]-0.5)^2+(yv[j]-0.5)^2 for i in 1:J[1], j in 1:J[2]];\n",
    "V = [-(l-2)*(xv[j]-0.5)*r[i,j]*(r[i,j]-r0) + (l-1)*(yv[i]-0.5)*r[i,j]*(r[i,j]-r0) for l in 1:2, i in 1:J[1], j in 1:J[2]];\n",
    "V = V / maximum(abs.(V)) * 0.5;\n"
   ]
  },
  {
   "cell_type": "markdown",
   "id": "97f88491",
   "metadata": {},
   "source": [
    "Plot velocity field"
   ]
  },
  {
   "cell_type": "code",
   "execution_count": null,
   "id": "c3b2c89e",
   "metadata": {},
   "outputs": [],
   "source": [
    "plot(xv,view(V,1,:,J[2]÷2))"
   ]
  },
  {
   "cell_type": "code",
   "execution_count": null,
   "id": "efd09a93",
   "metadata": {},
   "outputs": [],
   "source": [
    "px = plot(yv,xv,V[1,:,:]\n",
    ", linetype = :contourf\n",
    ", aspect_ratio = 1\n",
    ")\n",
    "py = plot(yv,xv,V[2,:,:]\n",
    ", linetype = :contourf\n",
    ", aspect_ratio = 1\n",
    ")\n",
    "plot(px,py)"
   ]
  },
  {
   "cell_type": "markdown",
   "id": "d0be4f13",
   "metadata": {},
   "source": [
    "#### Initial Magnetic Field"
   ]
  },
  {
   "cell_type": "code",
   "execution_count": null,
   "id": "ba3b5887",
   "metadata": {},
   "outputs": [],
   "source": [
    "\n",
    "#initial magnetic field\n",
    "\n",
    "B = zeros(2,J[1],J[2]);\n",
    "#possible B's\n",
    "#k2 = 2π*[2,2]\n",
    "#B = [(l-2)*k2[2]*sin(k2[1]*xv[i])*cos(k2[2]*yv[j]) + (l-1)*k2[1]*cos(k2[1]*xv[i])*sin(k2[2]*yv[j]) for l in 1:2, i in 1:J[1], j in 1:J[2]];\n",
    "# the following is not working well, the divergence in not zero\n",
    "#B[1,:,:] = [ (y^3)*(y-1)^3*(2y-1)*(x)^4*(x-1)^4*2^16 for x in xv for y in yv]\n",
    "#B[2,:,:] = [ -(x^3)*(x-1)^3*(2x-1)*(y)^4*(y-1)^4*2^16 for x in xv for y in yv]\n",
    "\n",
    "#we also put a violation of div(B)=0 using the same function\n",
    "\n",
    "eps = 0.0 #10.0^(-5)\n",
    "\n",
    "poly = [polynomial_bump(x,y,4) for x in xv, y in yv]\n",
    "@show size(poly)\n",
    "for i in 1:J[1]\n",
    "    mul!(view(B,1,i,:), Dy, view(poly,i,:))\n",
    "    mul!(view(B,2,i,:), Dy, view(poly,i,:), eps)\n",
    "end\n",
    "for j in 1:J[2]\n",
    "    mul!(view(B,2,:,j), -Dx, view(poly,:,j), 1.0)\n",
    "    mul!(view(B,1,:,j), Dx, view(poly,:,j), eps, 1.0)\n",
    "end\n",
    "\n",
    "# pure frequency error \n",
    "k2 = 2π*[10,10]\n",
    "B_error_k = 10^(-5)*[(l-2)*cos(k2[1]*xv[i])*cos(k2[2]*yv[j]) + (l-1)*cos(k2[1]*xv[i])*cos(k2[2]*yv[j]) for l in 1:2, i in 1:J[1], j in 1:J[2]];\n",
    "B .+= B_error_k;"
   ]
  },
  {
   "cell_type": "markdown",
   "id": "c6048a20",
   "metadata": {},
   "source": [
    "Plot initial magnetic field"
   ]
  },
  {
   "cell_type": "code",
   "execution_count": null,
   "id": "2316128c",
   "metadata": {},
   "outputs": [],
   "source": [
    "plot(surface(yv,xv,B[1,:,:], title=\"initial Bx\"), surface(yv,xv,B[2,:,:], title=\"initial By\"))"
   ]
  },
  {
   "cell_type": "markdown",
   "id": "1dd6f5e7",
   "metadata": {},
   "source": [
    "Check the maximum initial constraint violation."
   ]
  },
  {
   "cell_type": "code",
   "execution_count": null,
   "id": "afa0331b",
   "metadata": {},
   "outputs": [],
   "source": [
    "@show maximum(abs.(Div(B,Dx,Dy,J)))"
   ]
  },
  {
   "cell_type": "markdown",
   "id": "400698a1",
   "metadata": {},
   "source": [
    "Plot the initial constraint violation. Notice that it is of high frequency."
   ]
  },
  {
   "cell_type": "code",
   "execution_count": null,
   "id": "c04efea5",
   "metadata": {},
   "outputs": [],
   "source": [
    "surface(yv,xv,Div(B,Dx,Dy,J), title=\"initial divergence of B\")"
   ]
  },
  {
   "cell_type": "markdown",
   "id": "5c830a28",
   "metadata": {},
   "source": [
    "Plot the divergence of the velocity field, some times it is important to see where the divergence of the magnetic field will grow."
   ]
  },
  {
   "cell_type": "code",
   "execution_count": null,
   "id": "d7d5548b",
   "metadata": {},
   "outputs": [],
   "source": [
    "surface(yv,xv,Div(V,Dx,Dy,J), title=\"divergence of V\")"
   ]
  },
  {
   "cell_type": "markdown",
   "id": "033072a3",
   "metadata": {},
   "source": [
    "Create the union of evolutionary fields. And location for its time derivatives."
   ]
  },
  {
   "cell_type": "code",
   "execution_count": null,
   "id": "58f87405",
   "metadata": {},
   "outputs": [],
   "source": [
    "u = Vector{Float64}(undef,(D+1)*J[1]*J[2]); #the last component is psi\n",
    "du = Vector{Float64}(undef,(D+1)*J[1]*J[2]);\n",
    "\n",
    "u .= 0.0;\n",
    "du .= 0.0;\n",
    "\n",
    "U = reshape(u,D+1,J[1],J[2]);"
   ]
  },
  {
   "cell_type": "markdown",
   "id": "7bd5fdca",
   "metadata": {},
   "source": [
    "### Set the method:"
   ]
  },
  {
   "cell_type": "code",
   "execution_count": null,
   "id": "01a0d540",
   "metadata": {},
   "outputs": [],
   "source": [
    "#=\n",
    "hyperbolic = false\n",
    "parabolic = false\n",
    "no_div_cleaning = false\n",
    "hyperbolic = true\n",
    "#parabolic = true\n",
    "no_div_cleaning = true\n",
    "=#\n",
    "#method = :hyperbolic\n",
    "method = :parabolic\n",
    "#method = :no_div_cleaning\n",
    "@show method\n",
    "\n",
    "methods = [:no_div_cleaning, :hyperbolic, :parabolic, :mixed]"
   ]
  },
  {
   "cell_type": "code",
   "execution_count": null,
   "id": "820a7ae5",
   "metadata": {},
   "outputs": [],
   "source": [
    "function evolve(u,du,V, B_init, method, time_interval, M, par)\n",
    "    J, Dx, Δx, Dy, Δy, σx, σy, V, κ, c2, τ, du = par\n",
    "    U[1:D,:,:] .= copy(B_init)\n",
    "    U[D+1,:,:] .= 0.0 #psi\n",
    "\n",
    "    if method == :hyperbolic\n",
    "        κ = 0.0\n",
    "        c2 = 1.0\n",
    "        τ = 1.0\n",
    "    elseif method == :parabolic\n",
    "        κ = minimum(dx)/2\n",
    "        c2 = 0.0\n",
    "        τ = 0.0\n",
    "    elseif method == :no_div_cleaning\n",
    "        κ = 0.0\n",
    "        c2 = 0.0\n",
    "        τ = 0.0\n",
    "    elseif method == :mixed\n",
    "        κ = minimum(dx)/2\n",
    "        c2 = 1.0\n",
    "        τ = 1.0\n",
    "    else\n",
    "        error(\"method must be :hyperbolic, :parabolic or :no_div_cleaning\")\n",
    "    end\n",
    "    (t_i, t_f) = time_interval\n",
    "    dt = (t_f - t_i)/M\n",
    "\n",
    "    par = (J, Dx, Δx, Dy, Δy, σx, σy, V, κ, c2, τ, du)\n",
    "\n",
    "    @show κ, c2, τ, dt/maximum(dx)\n",
    "    #set initial values\n",
    "    Energy = Array{Float64,1}(undef,M+1)\n",
    "    Div_B_max = Array{Float64,1}(undef,M+1)\n",
    "    Div_B_L2 = Array{Float64,1}(undef,M+1)\n",
    "    tt = Array{Float64,1}(undef,M+1)\n",
    "    @show Energy[1] = get_Energy(u,J,Box)\n",
    "    @show Div_B_max[1] = maximum(abs.(Div(reshape(u,(D+1,J...))[1:D, :, :],Dx,Dy,J)))\n",
    "    @show Div_B_L2[1] = norm(Div(reshape(u,(D+1,J...))[1:D, :, :],Dx,Dy,J))*sqrt(volume(Box)/prod(J))\n",
    "    tt[1] = t_i\n",
    "    t = t_i\n",
    "    \n",
    "    for i in 1:M\n",
    "        #=\n",
    "        if method == :hyperbolic || method == :no_div_cleaning\n",
    "            RK4_Step!(F_hyp!, u, 0.0, dt, par)\n",
    "        elseif method == :parabolic\n",
    "            RK4_Step!(F_par!, u, 0.0, dt, par)\n",
    "        end\n",
    "        =#\n",
    "        RK4_Step!(F_total!, u, 0.0, dt, par)\n",
    "\n",
    "        t = t + dt\n",
    "        tt[i+1] = t\n",
    "    \n",
    "        Energy[i+1] = get_Energy(u,J,Box)\n",
    "        Div_B_max[i+1] = maximum(abs.(Div(reshape(u,(D+1,J...))[1:D, :, :],Dx,Dy,J)))\n",
    "        Div_B_L2[i+1] = norm(Div(reshape(u,(D+1,J...))[1:D, :, :],Dx,Dy,J))*sqrt(volume(Box)/prod(J))\n",
    "\n",
    "        #println(\"t = $t\")\n",
    "        #println(\"Energy = $(get_Energy(u,J,Box))\")\n",
    "        #println(\"DivB = $(maximum(abs.(Div(reshape(u,(D+1,J...))[1:D, :, :],Dx,Dy,J))))\")\n",
    "    \n",
    "end\n",
    "    return u, Energy, Div_B_max, Div_B_L2, tt\n",
    "end"
   ]
  },
  {
   "cell_type": "code",
   "execution_count": null,
   "id": "7ab7e0e4",
   "metadata": {},
   "outputs": [],
   "source": [
    "#method = :hyperbolic\n",
    "method = :parabolic\n",
    "#method = :no_div_cleaning\n",
    "time_interval = (0.0, 4.0)\n",
    "M = 800\n",
    "κ = minimum(dx)/2\n",
    "c2 = 1.0\n",
    "τ = 1.0\n",
    "par = (J, Dx, Δx, Dy, Δy, σx, σy, V, κ, c2, τ, du)\n",
    "u_final, Energy, Div_B_max, Div_B_L2, tt = evolve(u,du,V,B,method, time_interval, M,par)"
   ]
  },
  {
   "cell_type": "code",
   "execution_count": null,
   "id": "05aeb6b2",
   "metadata": {},
   "outputs": [],
   "source": [
    "pBx = surface(yv,xv,reshape(u_final,(D+1,J...))[1,:,:], title=\"final Bx\")\n",
    "pBy = surface(yv,xv,reshape(u_final,(D+1,J...))[2,:,:], title=\"final By\")\n",
    "\n",
    "plot(pBx, pBy, size=(900,400))"
   ]
  },
  {
   "cell_type": "code",
   "execution_count": null,
   "id": "75679861",
   "metadata": {},
   "outputs": [],
   "source": [
    "ps = []\n",
    "for i in 1:2\n",
    "    p1 = plot(yv, xv, reshape(u_final,(D+1,J...))[i,:,:], title=\"final B$i\"\n",
    "        ,linetype = :contourf\n",
    "        #st = :surface,\n",
    "        , aspect_ratio = 1)\n",
    "    push!(ps, p1)\n",
    "end\n",
    "\n",
    "plot(ps[1], ps[2], layout = (1,2), size= (900,400))#linetype = :contourf, \n",
    "        "
   ]
  },
  {
   "cell_type": "code",
   "execution_count": null,
   "id": "e32cda66",
   "metadata": {},
   "outputs": [],
   "source": [
    "surface(yv,xv,Div(reshape(u_final,(D+1,J...))[1:D, :, :],Dx,Dy,J), title=\"final divergence of B\")"
   ]
  },
  {
   "cell_type": "code",
   "execution_count": null,
   "id": "dbe0ab8a",
   "metadata": {},
   "outputs": [],
   "source": [
    "plot(tt,Energy, yaxis=:log, title=\"Energy vs time\", label=\"Energy\")"
   ]
  },
  {
   "cell_type": "code",
   "execution_count": null,
   "id": "9228a063",
   "metadata": {},
   "outputs": [],
   "source": [
    "plot(tt, Div_B_max, yaxis=:log, title=\"Max norm of divergence of B vs time\", label=\"Max norm of Div(B)\")"
   ]
  },
  {
   "cell_type": "code",
   "execution_count": null,
   "id": "7b13ffa4",
   "metadata": {},
   "outputs": [],
   "source": [
    "plot(tt, Div_B_L2, yaxis=:log, title=\"L2 norm of divergence of B vs time\", label=\"L2 norm of Div(B)\")"
   ]
  },
  {
   "cell_type": "markdown",
   "id": "869475ca",
   "metadata": {},
   "source": [
    "## Now all methods together"
   ]
  },
  {
   "cell_type": "code",
   "execution_count": null,
   "id": "ad157b4b",
   "metadata": {},
   "outputs": [],
   "source": [
    "p_E = plot()\n",
    "p_Div_max = plot()\n",
    "p_Div_L2 = plot()\n",
    "\n",
    "for method in methods\n",
    "    println(\"Evolving with method = $method\")\n",
    "    u_final, Energy, Div_B_max, Div_B_L2, tt = evolve(u,du,V,B,method, time_interval, M,par)\n",
    "    plot!(p_E,tt,Energy, yaxis=:log, title=\"Energy vs time\", label=\"Energy for $method\")\n",
    "    plot!(p_Div_max,tt, Div_B_max, yaxis=:log, title=\"Max norm of divergence of B vs time\", label=\"Max norm of Div(B) for $method\", legend=:false)\n",
    "    plot!(p_Div_L2,tt, Div_B_L2, yaxis=:log, title=\"L2 norm of divergence of B vs time\", label=\"L2 norm of Div(B) for $method\", legend=:false)\n",
    "end\n",
    "\n",
    "plot(p_E, p_Div_max, p_Div_L2, layout = (2,2), size=(900,700))\n",
    "#savefig(\"comparison_div_cleaning_methods_error_k20_inidat_3.png\")"
   ]
  },
  {
   "cell_type": "markdown",
   "id": "48d901c3",
   "metadata": {},
   "source": [
    "![try_1 comparison](comparison_div_cleaning_methods.png)"
   ]
  }
 ],
 "metadata": {
  "kernelspec": {
   "display_name": "Julia 1.11.7",
   "language": "julia",
   "name": "julia-1.11"
  },
  "language_info": {
   "file_extension": ".jl",
   "mimetype": "application/julia",
   "name": "julia",
   "version": "1.11.7"
  }
 },
 "nbformat": 4,
 "nbformat_minor": 5
}
