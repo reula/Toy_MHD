{
 "cells": [
  {
   "cell_type": "markdown",
   "id": "fe855079",
   "metadata": {},
   "source": [
    "## Toy MHD and divergence cleaning \n",
    "\n",
    "\n",
    "We made a code to check the divergence cleaning strategies discussed in: https://www.overleaf.com/read/phmtkqtkxwjr#baf932\n",
    "\n",
    "In this version we add the hyperbolic divergence cleaning. Since we are using periodic boundary conditions we don't expect much improvement, only the one coming from the damping term. "
   ]
  },
  {
   "cell_type": "code",
   "execution_count": null,
   "id": "6faaab53",
   "metadata": {},
   "outputs": [],
   "source": [
    "using Plots\n",
    "using SummationByPartsOperators\n",
    "using LinearAlgebra\n",
    "using ArraysOfArrays\n",
    "using Base.Threads\n",
    "using Revise\n",
    "using JLD2\n",
    "\n",
    "includet(\"../PIC/PIC-1D/aux_functions/aux_functions_grid.jl\")\n",
    "includet(\"../PIC/PIC-1D/aux_functions/aux_functions_E-B.jl\")\n",
    "includet(\"../PIC/PIC-1D/aux_functions/aux_functions_RHS.jl\")\n",
    "includet(\"toy_MHD_auxfunctions.jl\")"
   ]
  },
  {
   "cell_type": "code",
   "execution_count": null,
   "id": "b8d1c202",
   "metadata": {},
   "outputs": [],
   "source": [
    "J = (100,100)\n",
    "Box = (0.0,1.0,0.0,1.0)\n",
    "dx = differentials(Box,J)\n",
    "const D = 2\n",
    "\n",
    "xv = [(i-1)*dx[1] for i in 1:J[1]]\n",
    "yv = [(i-1)*dx[2] for i in 1:J[2]];"
   ]
  },
  {
   "cell_type": "code",
   "execution_count": null,
   "id": "8a0bc525",
   "metadata": {},
   "outputs": [],
   "source": [
    "Dx = periodic_derivative_operator(derivative_order=1, accuracy_order=4, xmin=Box[1], xmax=Box[2], N=J[1])\n",
    "Dy = periodic_derivative_operator(derivative_order=1, accuracy_order=4, xmin=Box[3], xmax=Box[4], N=J[2])\n",
    "Δx = dissipation_operator(Dx;\n",
    "                     #mode=D.coefficients.mode\n",
    "                     #,mode=ThreadedMode()\n",
    "                     )\n",
    "Δy = dissipation_operator(Dy;\n",
    "                     #mode=D.coefficients.mode\n",
    "                     #,mode=ThreadedMode()\n",
    "                     )\n",
    "σx = 0.0 #dissipation strength\n",
    "σy = 0.0 #dissipation strength"
   ]
  },
  {
   "cell_type": "markdown",
   "id": "99a7a374",
   "metadata": {},
   "source": [
    "Build initial data and velocity field."
   ]
  },
  {
   "cell_type": "code",
   "execution_count": null,
   "id": "f79b2999",
   "metadata": {},
   "outputs": [],
   "source": [
    "k1 = 2π*[1,1]\n",
    "k2 = 2π*[2,2]\n",
    "x0 = [0.5,0.5]\n",
    "fv(x,y,k) = sin(k[1]*x)*sin(k[2]*y)\n",
    "function fp(x,y,x0,p) \n",
    "    r20 = 0.02\n",
    "    r2 = (x-x0[1])^2+(y-x0[2])^2\n",
    "    if r2 - r20 < 0\n",
    "        return (r2 - r20)^p/r20^p\n",
    "    else\n",
    "        return 0.0\n",
    "    end\n",
    "end\n",
    "V = [-(l-2)*sin(k1[1]*xv[i]) + (l-1)*sin(k1[2]*yv[j]) for l in 1:2, i in 1:J[1], j in 1:J[2]];\n",
    "B = [(l-2)*k2[2]*sin(k2[1]*xv[i])*cos(k2[2]*yv[j]) + (l-1)*k2[1]*cos(k2[1]*xv[i])*sin(k2[2]*yv[j]) for l in 1:2, i in 1:J[1], j in 1:J[2]];\n"
   ]
  },
  {
   "cell_type": "code",
   "execution_count": null,
   "id": "efd09a93",
   "metadata": {},
   "outputs": [],
   "source": [
    "surface(yv,xv,V[1,:,:])"
   ]
  },
  {
   "cell_type": "code",
   "execution_count": null,
   "id": "2316128c",
   "metadata": {},
   "outputs": [],
   "source": [
    "surface(yv,xv,B[2,:,:])"
   ]
  },
  {
   "cell_type": "code",
   "execution_count": null,
   "id": "afa0331b",
   "metadata": {},
   "outputs": [],
   "source": [
    "@show maximum(abs.(Div(B,Dx,Dy,J)))"
   ]
  },
  {
   "cell_type": "code",
   "execution_count": null,
   "id": "c04efea5",
   "metadata": {},
   "outputs": [],
   "source": [
    "surface(yv,xv,Div(B,Dx,Dy,J))"
   ]
  },
  {
   "cell_type": "code",
   "execution_count": null,
   "id": "d7d5548b",
   "metadata": {},
   "outputs": [],
   "source": [
    "surface(yv,xv,Div(V,Dx,Dy,J))"
   ]
  },
  {
   "cell_type": "code",
   "execution_count": null,
   "id": "58f87405",
   "metadata": {},
   "outputs": [],
   "source": [
    "u = Vector{Float64}(undef,(D+1)*J[1]*J[2]); #the last component is psi\n",
    "du = Vector{Float64}(undef,(D+1)*J[1]*J[2]);\n",
    "\n",
    "u .= 0.0;\n",
    "du .= 0.0;\n",
    "\n",
    "U = reshape(u,D+1,J[1],J[2]);\n",
    "\n",
    "\n",
    "\n",
    "#F = B\n"
   ]
  },
  {
   "cell_type": "markdown",
   "id": "ee08b8d6",
   "metadata": {},
   "source": [
    "The evolution equations are:\n",
    "\n",
    "$$\n",
    "\\partial_t B^i = \\nabla_j (v^j B^i - v^i B^j) + \\kappa \\nabla^i (\\nabla_j B^j)\n",
    "$$\n",
    "for the parabolic case, and\n",
    "\n",
    "\\begin{align*}\n",
    "\\partial_t B^i &= \\nabla_j (v^j B^i - v^i B^j) + \\nabla^i ψ \\\\\n",
    "\\partial_t ψ &= c^2 \\nabla_j B^j - τψ\n",
    "\\end{align*}\n"
   ]
  },
  {
   "cell_type": "code",
   "execution_count": null,
   "id": "98873914",
   "metadata": {},
   "outputs": [],
   "source": [
    "U[1:D,:,:] .= copy(B)\n",
    "U[D+1,:,:] .= 0.0 #psi\n",
    "@show B === reshape(u,(D+1,J...))[1:D,:,:]\n",
    "@show norm(B - reshape(u,(D+1,J...))[1:D,:,:])\n",
    "@show maximum(abs.(u))\n",
    "@show get_Energy(u,J,Box)\n",
    "@show maximum(abs.(Div(reshape(u,(D+1,J...))[1:D,:,:],Dx,Dy,J)))\n",
    "\n",
    "@show typeof(u)\n",
    "@show typeof(F_hyp!(u,0.0,(J, Dx, Δx, Dy, Δy, σx, σy, V, 0.1, 1.0, 1.0, du)))\n",
    "\n",
    "surface(yv,xv,reshape(F_hyp!(u,0.0,(J, Dx, Δx, Dy, Δy, σx, σy, zeros(D,J...), 0.1, 1, 1, du)),D+1,J...)[3,:,:])\n",
    "#surface(yv,xv,du[2,:,:])"
   ]
  },
  {
   "cell_type": "code",
   "execution_count": null,
   "id": "d0be70f7",
   "metadata": {},
   "outputs": [],
   "source": [
    "(t_i, t_f) = (0.0, 200.0)\n",
    "M = 40000\n",
    "@show dt = (t_f - t_i)/M\n",
    "@show differentials(Box,J)\n",
    "κ = maximum(dx)\n",
    "#κ = 0.0\n",
    "@show κ \n",
    "par = (J, Dx, Δx, Dy, Δy, σx, σy, V, κ, 0.0, 0.0, du)\n",
    "      #(J, Dx, Δx, Dy, Δy, σx, σy, V, 0.1, du)\n",
    "t = t_i\n",
    "Energy = Array{Float64,1}(undef,M+1)\n",
    "Div_B_max = Array{Float64,1}(undef,M+1)\n",
    "Div_B_L2 = Array{Float64,1}(undef,M+1)\n",
    "tt = Array{Float64,1}(undef,M+1)\n",
    "@show Energy[1] = get_Energy(u,J,Box)\n",
    "@show Div_B_max[1] = maximum(abs.(Div(reshape(u,(D+1,J...))[1:D, :, :],Dx,Dy,J)))\n",
    "@show Div_B_L2[1] = norm(Div(reshape(u,(D+1,J...))[1:D, :, :],Dx,Dy,J))*sqrt(volume(Box)/prod(J))\n",
    "tt[1] = t"
   ]
  },
  {
   "cell_type": "code",
   "execution_count": null,
   "id": "47e1eb95",
   "metadata": {},
   "outputs": [],
   "source": [
    "for i in 1:M\n",
    "    RK4_Step!(F_hyp!, u, 0.0, dt, par)\n",
    "    t = t + dt\n",
    "    tt[i+1] = t\n",
    "    \n",
    "    Energy[i+1] = get_Energy(u,J,Box)\n",
    "    Div_B_max[i+1] = maximum(abs.(Div(reshape(u,(D+1,J...))[1:D, :, :],Dx,Dy,J)))\n",
    "    Div_B_L2[i+1] = norm(Div(reshape(u,(D+1,J...))[1:D, :, :],Dx,Dy,J))*sqrt(volume(Box)/prod(J))\n",
    "\n",
    "    println(\"t = $t\")\n",
    "    println(\"Energy = $(get_Energy(u,J,Box))\")\n",
    "    println(\"DivB = $(maximum(abs.(Div(reshape(u,(D+1,J...))[1:D, :, :],Dx,Dy,J))))\")\n",
    "    \n",
    "end"
   ]
  },
  {
   "cell_type": "code",
   "execution_count": null,
   "id": "e32cda66",
   "metadata": {},
   "outputs": [],
   "source": [
    "surface(yv,xv,Div(reshape(u,(D+1,J...))[1:D, :, :],Dx,Dy,J))"
   ]
  },
  {
   "cell_type": "code",
   "execution_count": null,
   "id": "cdbc4def",
   "metadata": {},
   "outputs": [],
   "source": [
    "plot(tt, Energy, yscale=:log10, title=\"Energy vs time\", xlabel=\"t\", ylabel=\"Energy\")"
   ]
  },
  {
   "cell_type": "code",
   "execution_count": null,
   "id": "a56416e6",
   "metadata": {},
   "outputs": [],
   "source": [
    "plot(tt, Div_B_max,title=\"Max |div B| vs time\",xlabel=\"t\",ylabel=\"Max |div B|\")"
   ]
  },
  {
   "cell_type": "code",
   "execution_count": null,
   "id": "0c6d204b",
   "metadata": {},
   "outputs": [],
   "source": [
    "plot(tt, Div_B_L2,title=\"Norm |div B| vs time\",xlabel=\"t\",ylabel=\"Max |div B|\")"
   ]
  },
  {
   "cell_type": "code",
   "execution_count": null,
   "id": "b0ed79c1",
   "metadata": {},
   "outputs": [],
   "source": [
    "Div_B_max_0 = copy(Div_B_max);\n",
    "#Div_B_max_1_1 = copy(Div_B_max);\n",
    "Div_B_L2_0 = copy(Div_B_L2);\n",
    "#Div_B_L2_1_1 = copy(Div_B_L2);\n"
   ]
  },
  {
   "cell_type": "code",
   "execution_count": null,
   "id": "7b455368",
   "metadata": {},
   "outputs": [],
   "source": [
    "plot(tt,Div_B_L2_0, title=\"Norm |div B| vs time D-order=4\",xlabel=\"t\",ylabel=\"Norm |div B|\", label=\"κ=0.0\", yscale=:log10)\n",
    "plot!(tt,Div_B_L2_1_1, label=\"c2=1 τ=1\")\n",
    "#savefig(\"DivB_L2_vs_time_κD-order=4.png\")"
   ]
  },
  {
   "cell_type": "markdown",
   "id": "c16305d8",
   "metadata": {},
   "source": [
    "![DivB_L2_vs_time](DivB_L2_vs_time_κ.png)"
   ]
  },
  {
   "cell_type": "code",
   "execution_count": null,
   "id": "e31397c9",
   "metadata": {},
   "outputs": [],
   "source": [
    "plot(tt,Div_B_max_0, title=\"Max |div B| vs time D-order=4\",xlabel=\"t\",ylabel=\"Max |div B|\", label=\"c2=0.0\", yscale=:log10)\n",
    "plot!(tt,Div_B_max_1_1, label=\"c2=1 τ=1\")\n",
    "#savefig(\"DivB_max_vs_time_κ_D-order=4.png\")"
   ]
  },
  {
   "cell_type": "markdown",
   "id": "5f35c5fc",
   "metadata": {},
   "source": [
    "![DivB_max_vs_time](DivB_max_vs_time_κ.png)"
   ]
  },
  {
   "cell_type": "markdown",
   "id": "263ea71f",
   "metadata": {},
   "source": []
  }
 ],
 "metadata": {
  "kernelspec": {
   "display_name": "Julia 1.11.5",
   "language": "julia",
   "name": "julia-1.11"
  },
  "language_info": {
   "file_extension": ".jl",
   "mimetype": "application/julia",
   "name": "julia",
   "version": "1.11.5"
  }
 },
 "nbformat": 4,
 "nbformat_minor": 5
}
